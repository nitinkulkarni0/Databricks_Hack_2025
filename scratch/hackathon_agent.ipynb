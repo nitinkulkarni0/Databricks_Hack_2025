{
 "cells": [
  {
   "cell_type": "code",
   "execution_count": null,
   "metadata": {},
   "outputs": [],
   "source": [
    "%pip install -U -qqq langchain_core langchain_databricks langchain_community"
   ]
  },
  {
   "cell_type": "code",
   "execution_count": null,
   "metadata": {},
   "outputs": [],
   "source": [
    "%restart_python"
   ]
  },
  {
   "cell_type": "code",
   "execution_count": null,
   "metadata": {
    "application/vnd.databricks.v1+cell": {
     "cellMetadata": {
      "byteLimit": 2048000,
      "rowLimit": 10000
     },
     "inputWidgets": {},
     "nuid": "6bca260b-13d1-448f-8082-30b60a85c9ae",
     "showTitle": false,
     "title": ""
    }
   },
   "outputs": [],
   "source": [
    "import pandas as pd\n",
    "from langchain_core.prompts import PromptTemplate\n",
    "from langchain_core.output_parsers import StrOutputParser\n",
    "from langchain_databricks import ChatDatabricks\n",
    "from databricks.sdk import WorkspaceClient\n",
    "import os\n",
    "\n",
    "# configure workspace tokens\n",
    "w = WorkspaceClient()\n",
    "os.environ[\"DATABRICKS_HOST\"] = w.config.host\n",
    "os.environ[\"DATABRICKS_TOKEN\"] = w.tokens.create(comment=\"for model serving\", lifetime_seconds=1200).token_value\n",
    "\n",
    "llm = ChatDatabricks(endpoint=\"databricks-llama-4-maverick\")\n",
    "\n",
    "def format_context(df: pd.DataFrame) -> str:\n",
    "    return df.to_json(orient='records', indent=2)\n",
    "\n",
    "def find_plans(location: str) -> pd.DataFrame:\n",
    "  query = f\"\"\"\n",
    "    SELECT\n",
    "      *    \n",
    "    FROM `dais-hackathon-2025`.mimilabs.landscape_special_needs_plan\n",
    "    WHERE\n",
    "      county ILIKE '%{location}%'      \n",
    "    LIMIT 5\n",
    "  \"\"\"\n",
    "  return format_context(spark.sql(query).toPandas())\n",
    "\n",
    "# Define the prompt template for the LLM\n",
    "prompt_template = PromptTemplate.from_template(\n",
    "  \"\"\"\n",
    "  You are a helpful healthcare assistant identifying what plans are available in my county.\n",
    "\n",
    "  Here is the JSON data:\n",
    "  {context}\n",
    "  \"\"\"\n",
    ")\n",
    "\n",
    "llm = ChatDatabricks(endpoint=\"databricks-llama-4-maverick\")\n",
    "\n",
    "# This is our simple \"agentic\" chain\n",
    "chain = (\n",
    "    find_plans\n",
    "    | prompt_template\n",
    "    | llm\n",
    "    | StrOutputParser()\n",
    ")\n",
    "\n",
    "# Let's run the chain for Chicago!\n",
    "result = chain.invoke(\"Autauga\")\n",
    "\n",
    "print(result)"
   ]
  }
 ],
 "metadata": {
  "application/vnd.databricks.v1+notebook": {
   "dashboards": [],
   "language": "python",
   "notebookMetadata": {
    "pythonIndentUnit": 2
   },
   "notebookName": "ipynb-notebook",
   "widgets": {}
  },
  "kernelspec": {
   "display_name": "Python 3",
   "language": "python",
   "name": "python3"
  },
  "language_info": {
   "name": "python",
   "version": "3.11.4"
  }
 },
 "nbformat": 4,
 "nbformat_minor": 0
}
